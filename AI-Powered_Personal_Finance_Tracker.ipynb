{
 "cells": [
  {
   "cell_type": "code",
   "execution_count": 176,
   "id": "5837ae70-2ec4-4048-b654-064d260d6035",
   "metadata": {},
   "outputs": [],
   "source": [
    "import streamlit as st\n",
    "import pandas as pd\n",
    "import sqlite3\n",
    "from sklearn.linear_model import LinearRegression\n",
    "import matplotlib.pyplot as plt\n",
    "import numpy as np"
   ]
  },
  {
   "cell_type": "code",
   "execution_count": 177,
   "id": "3e3f9fbd-300b-4f49-9bca-27f1ada36d80",
   "metadata": {},
   "outputs": [],
   "source": [
    "# SQLite database setup\n",
    "conn = sqlite3.connect(\"finance_tracker.db\")\n",
    "c = conn.cursor()\n"
   ]
  },
  {
   "cell_type": "code",
   "execution_count": 178,
   "id": "015c6b2c-e369-455a-9f55-a91d1f76dded",
   "metadata": {},
   "outputs": [],
   "source": [
    "# Create tables for users and expenses\n",
    "c.execute(\"\"\"\n",
    "CREATE TABLE IF NOT EXISTS users (\n",
    "    username TEXT PRIMARY KEY,\n",
    "    password TEXT\n",
    ")\n",
    "\"\"\")\n",
    "c.execute(\"\"\"\n",
    "CREATE TABLE IF NOT EXISTS expenses (\n",
    "    username TEXT,\n",
    "    date TEXT,\n",
    "    category TEXT,\n",
    "    amount REAL,\n",
    "    FOREIGN KEY (username) REFERENCES users (username)\n",
    ")\n",
    "\"\"\")\n",
    "conn.commit()"
   ]
  },
  {
   "cell_type": "code",
   "execution_count": null,
   "id": "60f8b1fc-8ae3-48b2-9ce6-6ab9832de084",
   "metadata": {},
   "outputs": [],
   "source": []
  },
  {
   "cell_type": "code",
   "execution_count": 179,
   "id": "56fca1d4-3fb4-4f7f-93fb-7a9aaf6af890",
   "metadata": {},
   "outputs": [],
   "source": [
    "# Function for user authentication\n",
    "def authenticate_user(username, password):\n",
    "    c.execute(\"SELECT * FROM users WHERE username = suhith.drakshapally@gmail.com AND password =Suhith@123\", (username, password))\n",
    "    return c.fetchone()"
   ]
  },
  {
   "cell_type": "code",
   "execution_count": 180,
   "id": "4a3139b6-d290-402a-8dc5-43268a533197",
   "metadata": {},
   "outputs": [],
   "source": [
    "# Function for user registration\n",
    "def register_user(username, password):\n",
    "    try:\n",
    "        c.execute(\"INSERT INTO users (username, password) VALUES (suhith.drakshapally@gmail.com,Suhith@123 )\", (username, password))\n",
    "        conn.commit()\n",
    "        return True\n",
    "    except sqlite3.IntegrityError:\n",
    "        return False"
   ]
  },
  {
   "cell_type": "code",
   "execution_count": 183,
   "id": "63fa20f9-e13e-423a-bbca-f32bdded322d",
   "metadata": {},
   "outputs": [],
   "source": [
    "# Function to add expense\n",
    "def add_expense(username, date, category, amount):\n",
    "    c.execute(\"INSERT INTO expenses (username, date, category, amount) VALUES (?, ?, ?, ?)\", (username, date, category, amount))\n",
    "    conn.commit()"
   ]
  },
  {
   "cell_type": "code",
   "execution_count": 185,
   "id": "d7dec204-afc1-427b-a63b-c0182874f351",
   "metadata": {},
   "outputs": [],
   "source": [
    "# Function to get expenses for a user\n",
    "def get_expenses(username):\n",
    "    c.execute(\"SELECT date, category, amount FROM expenses WHERE username = ?\", (username,))\n",
    "    return pd.DataFrame(c.fetchall(), columns=[\"Date\", \"Category\", \"Amount\"])\n"
   ]
  },
  {
   "cell_type": "code",
   "execution_count": 187,
   "id": "eeb7d632-295b-43ce-869b-fdeff225a4fe",
   "metadata": {},
   "outputs": [],
   "source": [
    "# Function for AI prediction\n",
    "def predict_expenses(data):\n",
    "    if len(data) < 2:\n",
    "        return \"Not enough data for prediction\"\n",
    "    data[\"Date\"] = pd.to_datetime(data[\"Date\"])\n",
    "    data = data.sort_values(by=\"Date\")\n",
    "    data[\"Days\"] = (data[\"Date\"] - data[\"Date\"].min()).dt.days\n",
    "    model = LinearRegression()\n",
    "    model.fit(data[[\"Days\"]], data[\"Amount\"])\n",
    "    next_day = data[\"Days\"].max() + 30\n",
    "    return model.predict([[next_day]])[0]"
   ]
  },
  {
   "cell_type": "code",
   "execution_count": 189,
   "id": "3735b2c0-6083-4c3c-9bb8-f7da431a7ead",
   "metadata": {},
   "outputs": [],
   "source": [
    "# Sample Data Insertion Code\n",
    "def insert_sample_data():\n",
    "    # Insert a sample user\n",
    "    try:\n",
    "        c.execute(\"INSERT INTO users (username, password) VALUES (?, ?)\", (\"suhith.drakshapally@gmail.com\", \"suhith@123\"))\n",
    "        conn.commit()\n",
    "        print(\"User inserted successfully.\")\n",
    "    except sqlite3.IntegrityError:\n",
    "        print(\"User already exists.\")\n",
    "    \n",
    "    # Insert sample expenses\n",
    "    expenses_data = [\n",
    "        (\"suhith.drakshapally@gmail.com\", \"2025-01-01\", \"Food\", 25.50),\n",
    "        (\"suhith.drakshapally@gmail.com\", \"2025-01-03\", \"Transport\", 15.00),\n",
    "        (\"suhith.drakshapally@gmail.com\", \"2025-01-05\", \"Shopping\", 40.00),\n",
    "        (\"suhith.drakshapally@gmail.com\", \"2025-01-07\", \"Entertainment\", 60.00),\n",
    "        (\"suhith.drakshapally@gmail.com\", \"2025-01-09\", \"Utilities\", 30.00)\n",
    "    ]\n",
    "    c.executemany(\"\"\"\n",
    "        INSERT INTO expenses (username, date, category, amount)\n",
    "        VALUES (?, ?, ?, ?)\n",
    "    \"\"\", expenses_data)\n",
    "    conn.commit()\n",
    "    print(\"Sample expenses inserted successfully.\")"
   ]
  },
  {
   "cell_type": "code",
   "execution_count": 191,
   "id": "aca14c63-6124-4419-ab3e-8ccc8f8b9e6d",
   "metadata": {},
   "outputs": [],
   "source": [
    "# App structure\n",
    "st.title(\"Smart Budgeter: AI-Powered Personal Finance Tracker\")\n",
    "menu = [\"Login\", \"Register\", \"Dashboard\"]\n",
    "choice = st.sidebar.selectbox(\"Menu\", menu)\n",
    "\n",
    "# Register logic\n",
    "if choice == \"Register\":\n",
    "    st.subheader(\"Create a New Account\")\n",
    "    new_user = st.text_input(\"Username\")\n",
    "    new_password = st.text_input(\"Password\", type=\"password\")\n",
    "    if st.button(\"Register\"):\n",
    "        if register_user(new_user, new_password):\n",
    "            st.success(\"Account created successfully!\")\n",
    "        else:\n",
    "            st.error(\"Username already exists. Try a different one.\")\n",
    "\n",
    "# Login logic\n",
    "elif choice == \"Login\":\n",
    "    st.subheader(\"Login to Your Account\")\n",
    "    username = st.text_input(\"Username\")\n",
    "    password = st.text_input(\"Password\", type=\"password\")\n",
    "    if st.button(\"Login\"):\n",
    "        if authenticate_user(username, password):\n",
    "            st.success(f\"Welcome, {username}!\")\n",
    "            st.session_state[\"logged_in\"] = True\n",
    "            st.session_state[\"username\"] = username\n",
    "        else:\n",
    "            st.error(\"Invalid username or password\")\n",
    "\n",
    "# Dashboard for logged-in users\n",
    "if \"logged_in\" in st.session_state and st.session_state[\"logged_in\"]:\n",
    "    st.sidebar.success(f\"Logged in as {st.session_state['username']}\")\n",
    "    # Add the dashboard content here\n"
   ]
  },
  {
   "cell_type": "code",
   "execution_count": 193,
   "id": "4a209624-47e0-4000-9750-30b3dd7b35c3",
   "metadata": {},
   "outputs": [],
   "source": [
    "# Dashboard\n",
    "if choice == \"Dashboard\":\n",
    "    username = st.session_state[\"username\"]"
   ]
  },
  {
   "cell_type": "code",
   "execution_count": 195,
   "id": "a36244cd-4f36-4dd5-a46f-04d8bd82d109",
   "metadata": {},
   "outputs": [],
   "source": [
    "# Add Expense\n",
    "st.subheader(\"Add Expense\")\n",
    "date = st.date_input(\"Date\")\n",
    "category = st.selectbox(\"Category\", [\"Food\", \"Transport\", \"Shopping\", \"Utilities\", \"Entertainment\", \"Others\"])\n",
    "amount = st.number_input(\"Amount\", min_value=0.01, format=\"%.2f\")\n",
    "if st.button(\"Add Expense\"):\n",
    "    add_expense(username, str(date), category, amount)\n",
    "    st.success(\"Expense added successfully!\")"
   ]
  },
  {
   "cell_type": "code",
   "execution_count": 197,
   "id": "2d9732ed-a628-449a-8509-950d4a8cdd7c",
   "metadata": {},
   "outputs": [],
   "source": [
    "# View Summary\n",
    "st.subheader(\"Expense Summary\")\n",
    "expenses = get_expenses(username)\n",
    "if not expenses.empty:\n",
    "            st.dataframe(expenses)"
   ]
  },
  {
   "cell_type": "code",
   "execution_count": 199,
   "id": "dd949379-f644-4703-af0c-cddc1ce04ae1",
   "metadata": {},
   "outputs": [
    {
     "data": {
      "text/plain": [
       "DeltaGenerator()"
      ]
     },
     "execution_count": 199,
     "metadata": {},
     "output_type": "execute_result"
    }
   ],
   "source": [
    "# Total expenses\n",
    "total = expenses[\"Amount\"].sum()\n",
    "st.subheader(f\"Total Expenses: ${total:.2f}\")"
   ]
  },
  {
   "cell_type": "code",
   "execution_count": 201,
   "id": "7e82f1f4-4082-4bba-bfe3-eb0a9295e632",
   "metadata": {},
   "outputs": [
    {
     "name": "stderr",
     "output_type": "stream",
     "text": [
      "C:\\Users\\bunny\\anaconda3\\Lib\\site-packages\\altair\\utils\\core.py:228: UserWarning: I don't know how to infer vegalite type from 'empty'.  Defaulting to nominal.\n",
      "  warnings.warn(\n"
     ]
    },
    {
     "data": {
      "text/plain": [
       "DeltaGenerator()"
      ]
     },
     "execution_count": 201,
     "metadata": {},
     "output_type": "execute_result"
    }
   ],
   "source": [
    "# Category-wise breakdown\n",
    "st.bar_chart(expenses.groupby(\"Category\")[\"Amount\"].sum())"
   ]
  },
  {
   "cell_type": "code",
   "execution_count": 202,
   "id": "e8f563af-7cc9-4c58-9277-ec9d3808be32",
   "metadata": {},
   "outputs": [],
   "source": [
    "# AI Prediction\n",
    "prediction = predict_expenses(expenses)\n",
    "\n",
    "if isinstance(prediction, str):\n",
    "    st.info(prediction)\n",
    "else:\n",
    "    st.subheader(f\"Predicted Expenses for Next Month: ${prediction:.2f}\")\n",
    "\n",
    "# Check if the DataFrame is empty\n",
    "if expenses.empty:\n",
    "    st.warning(\"No expenses added yet!\")"
   ]
  },
  {
   "cell_type": "code",
   "execution_count": null,
   "id": "a4205fad-c6f3-4748-b460-7e710203825a",
   "metadata": {},
   "outputs": [],
   "source": []
  },
  {
   "cell_type": "code",
   "execution_count": null,
   "id": "bd5ad684-dab3-4577-b48e-5f4942237e81",
   "metadata": {},
   "outputs": [],
   "source": []
  },
  {
   "cell_type": "code",
   "execution_count": null,
   "id": "42940c52-e9a7-4f5a-a7f5-fccc970759d4",
   "metadata": {},
   "outputs": [],
   "source": []
  },
  {
   "cell_type": "code",
   "execution_count": null,
   "id": "18ecc6ed-64a7-4a21-8f92-ad4a5dfc5a2d",
   "metadata": {},
   "outputs": [],
   "source": []
  },
  {
   "cell_type": "code",
   "execution_count": null,
   "id": "e710a3f0-1f93-49da-a955-e66f7e5316ac",
   "metadata": {},
   "outputs": [],
   "source": []
  },
  {
   "cell_type": "code",
   "execution_count": null,
   "id": "34b4c1d4-20db-4a73-a07e-e301b570436f",
   "metadata": {},
   "outputs": [],
   "source": []
  },
  {
   "cell_type": "code",
   "execution_count": null,
   "id": "8bac05b9-06fe-481d-9786-720423be4cba",
   "metadata": {},
   "outputs": [],
   "source": []
  },
  {
   "cell_type": "code",
   "execution_count": null,
   "id": "cfb376f3-113b-48d0-b093-e7bb101c1e6d",
   "metadata": {},
   "outputs": [],
   "source": []
  }
 ],
 "metadata": {
  "kernelspec": {
   "display_name": "Python 3 (ipykernel)",
   "language": "python",
   "name": "python3"
  },
  "language_info": {
   "codemirror_mode": {
    "name": "ipython",
    "version": 3
   },
   "file_extension": ".py",
   "mimetype": "text/x-python",
   "name": "python",
   "nbconvert_exporter": "python",
   "pygments_lexer": "ipython3",
   "version": "3.11.7"
  }
 },
 "nbformat": 4,
 "nbformat_minor": 5
}
